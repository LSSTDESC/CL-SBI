{
 "cells": [
  {
   "cell_type": "code",
   "execution_count": 1,
   "id": "cf76cca8-4e19-4464-b07c-86842fb1d17e",
   "metadata": {},
   "outputs": [],
   "source": [
    "import torch\n",
    "from torch import zeros, ones\n",
    "import sbi\n",
    "from sbi import utils as utils\n",
    "from sbi import analysis as analysis\n",
    "from sbi.inference.base import infer\n",
    "from sbi.utils import BoxUniform\n",
    "from sbi.inference import prepare_for_sbi, simulate_for_sbi, SNPE, SNLE, SNRE\n",
    "from sbi.analysis import pairplot\n",
    "import numpy as np\n",
    "from matplotlib import pyplot as plt\n",
    "#import pyccl as ccl\n",
    "#import pyccl.halos.profiles as prof\n",
    "#import pyccl.halos.concentration as conc"
   ]
  },
  {
   "cell_type": "code",
   "execution_count": 26,
   "id": "776a0b50-f2d0-4148-b57c-dac279e03210",
   "metadata": {},
   "outputs": [],
   "source": [
    "#cosmo = ccl.core.Cosmology(Omega_c=0.27 - 0.045, Omega_b=0.045, h=0.7, n_s=0.98, \n",
    "#                     sigma8=0.8, Omega_k=0.0)"
   ]
  },
  {
   "cell_type": "markdown",
   "id": "49525c27-dca0-426a-ad27-4bd33553adf0",
   "metadata": {},
   "source": [
    "### Given the pre-made simulation data with noisy Diemer-Kravtsov, going to continue from Yuanyuan's tutorial here: https://github.com/deepskies/DeepLenSBI/blob/main/CLCosmo/sbi_test.ipynb\n"
   ]
  },
  {
   "cell_type": "markdown",
   "id": "574c1183-a602-4c92-a3e8-96c5d0397874",
   "metadata": {},
   "source": [
    "## Load simulation data"
   ]
  },
  {
   "cell_type": "code",
   "execution_count": 2,
   "id": "5df96dce-b88d-422b-ab04-326fe3e05d63",
   "metadata": {},
   "outputs": [
    {
     "data": {
      "text/plain": [
       "(10000, 20)"
      ]
     },
     "execution_count": 2,
     "metadata": {},
     "output_type": "execute_result"
    }
   ],
   "source": [
    "x_np = np.load('noisy_DK_NFW_profiles.npy') ##x='profiles'\n",
    "np.shape(x_np)"
   ]
  },
  {
   "cell_type": "code",
   "execution_count": 3,
   "id": "3f21c9ee-4a1f-42ee-b250-196521d34736",
   "metadata": {},
   "outputs": [],
   "source": [
    "logmassprior = utils.BoxUniform(low=13.7*torch.ones(1), high=14.7*torch.ones(1))\n",
    "concmassprior = utils.BoxUniform(low=3*torch.ones(1), high=5*torch.ones(1))"
   ]
  },
  {
   "cell_type": "code",
   "execution_count": 4,
   "id": "1591bf88-127f-4e23-961f-df8f534a8f42",
   "metadata": {},
   "outputs": [],
   "source": [
    "prior = BoxUniform(-ones(2)*20, ones(2)*20)"
   ]
  },
  {
   "cell_type": "code",
   "execution_count": 5,
   "id": "0034bf83-2362-4be5-b161-b19bef6b882c",
   "metadata": {},
   "outputs": [],
   "source": [
    "theta_np = np.load('noisy_DK_massconc_pairs.npy')"
   ]
  },
  {
   "cell_type": "code",
   "execution_count": 6,
   "id": "e89607f9-f40d-4071-be29-27025064e08a",
   "metadata": {},
   "outputs": [
    {
     "data": {
      "text/plain": [
       "(10000, 20)"
      ]
     },
     "execution_count": 6,
     "metadata": {},
     "output_type": "execute_result"
    }
   ],
   "source": [
    "np.shape(x_np)"
   ]
  },
  {
   "cell_type": "code",
   "execution_count": 7,
   "id": "4f7342ce-0e2e-42a7-8219-64384f019aa4",
   "metadata": {},
   "outputs": [
    {
     "data": {
      "text/plain": [
       "(2, 10000)"
      ]
     },
     "execution_count": 7,
     "metadata": {},
     "output_type": "execute_result"
    }
   ],
   "source": [
    "np.shape(theta_np)"
   ]
  },
  {
   "cell_type": "code",
   "execution_count": 8,
   "id": "4f1938e3-4c0c-4318-a114-c6328a8e4e66",
   "metadata": {},
   "outputs": [],
   "source": [
    "theta_np=theta_np.T"
   ]
  },
  {
   "cell_type": "code",
   "execution_count": 9,
   "id": "cb15ff4d-db95-4bc6-b50f-8eebb196a50d",
   "metadata": {},
   "outputs": [],
   "source": [
    "### for now, defining the \"truth\" as the first set of the simulated obs's / par's\n",
    "\n",
    "theta_truth = theta_np[0]\n",
    "x_truth = x_np[0]"
   ]
  },
  {
   "cell_type": "code",
   "execution_count": 10,
   "id": "b8533f54-494e-45db-a368-70bc9913b96e",
   "metadata": {},
   "outputs": [],
   "source": [
    "theta = torch.as_tensor(theta_np, dtype=torch.float32)\n",
    "x = torch.as_tensor(x_np, dtype=torch.float32)"
   ]
  },
  {
   "cell_type": "code",
   "execution_count": 14,
   "id": "a8bbb2d4-4b43-46b9-916d-294f0d0431cc",
   "metadata": {},
   "outputs": [],
   "source": [
    "### what is the truth here? it should just be one of the observations?\n",
    "### along the line?"
   ]
  },
  {
   "cell_type": "code",
   "execution_count": 16,
   "id": "dfa36e33-99d1-484f-8200-ae85164a0f97",
   "metadata": {},
   "outputs": [],
   "source": [
    "# SO the x --> PROFILES (CONVERGENCE) and then theta --> MASS+CONC\n",
    "### profiles = simulateConvergenceProfile(samplemasses,noisysampleconcentrations)"
   ]
  },
  {
   "cell_type": "markdown",
   "id": "20ee9dc3-06ae-4bd3-ab8c-407e038d3ca4",
   "metadata": {},
   "source": [
    "## Train density estimator"
   ]
  },
  {
   "cell_type": "code",
   "execution_count": 11,
   "id": "d8472b2b-8974-4851-b79e-e82691505018",
   "metadata": {},
   "outputs": [],
   "source": [
    "# Create inference object: choose method and estimator\n",
    "inferer = SNPE(prior, density_estimator=\"mdn\", device=\"cpu\")  # SNLE, SNRE"
   ]
  },
  {
   "cell_type": "code",
   "execution_count": 12,
   "id": "6c42bbd1-d462-4040-9f9e-a48790f92720",
   "metadata": {},
   "outputs": [],
   "source": [
    "# Append training data\n",
    "inferer = inferer.append_simulations(theta, x)"
   ]
  },
  {
   "cell_type": "code",
   "execution_count": 13,
   "id": "933755d4-6c15-4090-a807-c85e81d98bf6",
   "metadata": {},
   "outputs": [
    {
     "name": "stdout",
     "output_type": "stream",
     "text": [
      " Neural network successfully converged after 114 epochs."
     ]
    }
   ],
   "source": [
    "#Train\n",
    "density_estimator = inferer.train(num_atoms=10, training_batch_size=50, \n",
    "                                  learning_rate=0.0005, \n",
    "                                  validation_fraction=0.1, \n",
    "                                  stop_after_epochs=20, max_num_epochs=1000, \n",
    "                                  clip_max_norm=5.0, calibration_kernel=None, \n",
    "                                  exclude_invalid_x=True, \n",
    "                                  resume_training=False, \n",
    "                                  discard_prior_samples=False, \n",
    "                                  use_combined_loss=False, \n",
    "                                  show_train_summary=False, \n",
    "                                  dataloader_kwargs=None)  \n",
    "# Lots of training settings.\n"
   ]
  },
  {
   "cell_type": "markdown",
   "id": "0308cc69-96a5-492b-901a-f79eb043abf0",
   "metadata": {},
   "source": [
    "## Obtain posterior"
   ]
  },
  {
   "cell_type": "code",
   "execution_count": 14,
   "id": "cf94fe9d-b94d-4fab-84a8-79c28674697d",
   "metadata": {},
   "outputs": [],
   "source": [
    "# Build posterior using trained density estimator\n",
    "posterior = inferer.build_posterior(density_estimator)  # Posterior sampling settings."
   ]
  },
  {
   "cell_type": "code",
   "execution_count": 15,
   "id": "28774428-9f01-4401-90ae-344b5f02c31e",
   "metadata": {},
   "outputs": [
    {
     "data": {
      "application/vnd.jupyter.widget-view+json": {
       "model_id": "8e1ffcbec72d427f85a404cf633e57db",
       "version_major": 2,
       "version_minor": 0
      },
      "text/plain": [
       "Drawing 10000 posterior samples:   0%|          | 0/10000 [00:00<?, ?it/s]"
      ]
     },
     "metadata": {},
     "output_type": "display_data"
    },
    {
     "name": "stderr",
     "output_type": "stream",
     "text": [
      "/global/homes/e/erinbari/.conda/envs/sbi_env/lib/python3.10/site-packages/pyknos/mdn/mdn.py:279: UserWarning: torch.triangular_solve is deprecated in favor of torch.linalg.solve_triangularand will be removed in a future PyTorch release.\n",
      "torch.linalg.solve_triangular has its arguments reversed and does not return a copy of one of the inputs.\n",
      "X = torch.triangular_solve(B, A).solution\n",
      "should be replaced with\n",
      "X = torch.linalg.solve_triangular(A, B). (Triggered internally at  ../aten/src/ATen/native/BatchLinearAlgebra.cpp:2189.)\n",
      "  zero_mean_samples, _ = torch.triangular_solve(\n"
     ]
    }
   ],
   "source": [
    "# Generate samples\n",
    "#theta_o = torch.as_tensor(theta_np[20], dtype=torch.float32)\n",
    "#x_o = torch.as_tensor(x_np[20], dtype=torch.float32)\n",
    "theta_o = torch.as_tensor(theta_truth, dtype=torch.float32) \n",
    "x_o = torch.as_tensor(x_truth, dtype=torch.float32)\n",
    "samples = posterior.sample((10000,), x=x_o)"
   ]
  },
  {
   "cell_type": "code",
   "execution_count": 22,
   "id": "a649dfe7-12b9-45e6-bff6-c41b1e926c35",
   "metadata": {
    "collapsed": true,
    "jupyter": {
     "outputs_hidden": true
    },
    "tags": []
   },
   "outputs": [
    {
     "name": "stdout",
     "output_type": "stream",
     "text": [
      "Requirement already satisfied: pygtc in /global/u2/e/erinbari/.conda/envs/sbi_env/lib/python3.10/site-packages (0.4.1)\n",
      "Requirement already satisfied: matplotlib in /global/u2/e/erinbari/.conda/envs/sbi_env/lib/python3.10/site-packages (from pygtc) (3.5.2)\n",
      "Requirement already satisfied: numpy in /global/u2/e/erinbari/.conda/envs/sbi_env/lib/python3.10/site-packages (from pygtc) (1.23.1)\n",
      "Requirement already satisfied: packaging in /global/u2/e/erinbari/.conda/envs/sbi_env/lib/python3.10/site-packages (from pygtc) (21.3)\n",
      "Requirement already satisfied: pyparsing>=2.2.1 in /global/u2/e/erinbari/.conda/envs/sbi_env/lib/python3.10/site-packages (from matplotlib->pygtc) (3.0.9)\n",
      "Requirement already satisfied: pillow>=6.2.0 in /global/u2/e/erinbari/.conda/envs/sbi_env/lib/python3.10/site-packages (from matplotlib->pygtc) (9.2.0)\n",
      "Requirement already satisfied: kiwisolver>=1.0.1 in /global/u2/e/erinbari/.conda/envs/sbi_env/lib/python3.10/site-packages (from matplotlib->pygtc) (1.4.4)\n",
      "Requirement already satisfied: python-dateutil>=2.7 in /global/u2/e/erinbari/.conda/envs/sbi_env/lib/python3.10/site-packages (from matplotlib->pygtc) (2.8.2)\n",
      "Requirement already satisfied: cycler>=0.10 in /global/u2/e/erinbari/.conda/envs/sbi_env/lib/python3.10/site-packages (from matplotlib->pygtc) (0.11.0)\n",
      "Requirement already satisfied: fonttools>=4.22.0 in /global/u2/e/erinbari/.conda/envs/sbi_env/lib/python3.10/site-packages (from matplotlib->pygtc) (4.34.4)\n",
      "Requirement already satisfied: six>=1.5 in /global/u2/e/erinbari/.conda/envs/sbi_env/lib/python3.10/site-packages (from python-dateutil>=2.7->matplotlib->pygtc) (1.16.0)\n",
      "Note: you may need to restart the kernel to use updated packages.\n"
     ]
    }
   ],
   "source": [
    "pip install pygtc"
   ]
  },
  {
   "cell_type": "code",
   "execution_count": 16,
   "id": "c37d7ede-7998-4a28-8a1a-e1948f626004",
   "metadata": {},
   "outputs": [],
   "source": [
    "import pygtc"
   ]
  },
  {
   "cell_type": "code",
   "execution_count": 19,
   "id": "d4b709f8-b08c-4127-89d7-a36a16d6e784",
   "metadata": {
    "tags": []
   },
   "outputs": [
    {
     "data": {
      "text/plain": [
       "<chainconsumer.chainconsumer.ChainConsumer at 0x1554c8f7ed10>"
      ]
     },
     "execution_count": 19,
     "metadata": {},
     "output_type": "execute_result"
    }
   ],
   "source": [
    "#pairplot(samples[:, :5], points=theta_o, points_colors=[\"k\"], upper=\"scatter\", limits=[[0, 1]], figsize=(10,10));\n",
    "#from matplotlib import pyplot as plt\n",
    "#plt.show()\n",
    "\n",
    "\n",
    "\n",
    "from chainconsumer import ChainConsumer\n",
    "from matplotlib import pyplot as plt\n",
    "\n",
    "\n",
    "np_samples=samples.numpy()\n",
    "theta_truth=theta_o.numpy()\n",
    "c = ChainConsumer()\n",
    "#print(np.shape(np_samples))\n",
    "c.add_chain(np_samples, parameters=[\"Mass\", \"Concentration\"])\n",
    "#fig = c.plotter.plot(figsize=\"column\", truth=theta_truth)\n"
   ]
  },
  {
   "cell_type": "code",
   "execution_count": 17,
   "id": "473d65e0-9c00-4cdf-baf6-11170b25d399",
   "metadata": {},
   "outputs": [],
   "source": [
    "priors2d = ((-20,20),(20,20))"
   ]
  },
  {
   "cell_type": "code",
   "execution_count": 20,
   "id": "3a96bfaf-766a-42e8-8a74-4971399284ce",
   "metadata": {},
   "outputs": [
    {
     "name": "stderr",
     "output_type": "stream",
     "text": [
      "WARNING:matplotlib.font_manager:findfont: Font family ['Arial'] not found. Falling back to DejaVu Sans.\n",
      "WARNING:matplotlib.font_manager:findfont: Font family ['Arial'] not found. Falling back to DejaVu Sans.\n"
     ]
    },
    {
     "data": {
      "image/png": "[encoded data removed]",
      "text/plain": [
       "<Figure size 172.8x172.8 with 3 Axes>"
      ]
     },
     "metadata": {
      "needs_background": "light"
     },
     "output_type": "display_data"
    },
    {
     "name": "stderr",
     "output_type": "stream",
     "text": [
      "WARNING:matplotlib.font_manager:findfont: Font family ['Arial'] not found. Falling back to DejaVu Sans.\n"
     ]
    },
    {
     "data": {
      "image/png": "[encoded data removed]",
      "text/plain": [
       "<Figure size 240x240 with 1 Axes>"
      ]
     },
     "metadata": {
      "needs_background": "light"
     },
     "output_type": "display_data"
    }
   ],
   "source": [
    "GTC = pygtc.plotGTC(chains=[np_samples], \n",
    "                     paramNames=['log mass','concentration'],\n",
    "                     truths=theta_truth,\n",
    "                     priors=priors2d,\n",
    "                     figureSize='MNRAS_column')\n",
    "\n",
    "GTC = pygtc.plotGTC(chains=[np_samples],\n",
    "                    paramNames=['log mass', 'concentration'],\n",
    "                    truths=theta_truth,\n",
    "                    priors=priors2d,\n",
    "                    figureSize='MNRAS_column',\n",
    "                    do1dPlots=False, customTickFont={'family':'Arial', 'size':12})\n"
   ]
  },
  {
   "cell_type": "code",
   "execution_count": null,
   "id": "e8e3fb92-027f-4335-90b6-9fe13e6bae3a",
   "metadata": {},
   "outputs": [],
   "source": []
  }
 ],
 "metadata": {
  "kernelspec": {
   "display_name": "conda-sbi_env",
   "language": "python",
   "name": "conda-sbi_env"
  },
  "language_info": {
   "codemirror_mode": {
    "name": "ipython",
    "version": 3
   },
   "file_extension": ".py",
   "mimetype": "text/x-python",
   "name": "python",
   "nbconvert_exporter": "python",
   "pygments_lexer": "ipython3",
   "version": "3.10.4"
  }
 },
 "nbformat": 4,
 "nbformat_minor": 5
}
